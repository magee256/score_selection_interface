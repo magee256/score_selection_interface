{
 "cells": [
  {
   "cell_type": "code",
   "execution_count": 1,
   "metadata": {
    "collapsed": true
   },
   "outputs": [],
   "source": [
    "import pandas as pd"
   ]
  },
  {
   "cell_type": "code",
   "execution_count": 2,
   "metadata": {
    "collapsed": false
   },
   "outputs": [],
   "source": [
    "# Upload reference data\n",
    "# Query with list of IDs\n",
    "# Qualtrics master list\n",
    "\n",
    "def as_int(x):\n",
    "    try:\n",
    "        return int(x)\n",
    "    except:\n",
    "        return x\n",
    "\n",
    "plag_df = pd.read_csv('../Plagiarism_Test_for_Class_Credit.csv',\n",
    "                        skiprows=1)\n",
    "plag_df.rename(columns=lambda x: x.strip(),inplace=True)\n",
    "\n",
    "# Narrow to just data we're interested in\n",
    "plag_df = plag_df[['score','Enter your Student ID number:']]\n",
    "plag_df.dropna(subset=['Enter your Student ID number:'],inplace=True)\n",
    "\n",
    "# Can coerce to standard form here, pick up badly formatted columns\n",
    "plag_df['Enter your Student ID number:'] = plag_df['Enter your Student ID number:'].apply(as_int)\n",
    "\n",
    "stud_ids = pd.read_excel('../Sample Student IDs.xlsx')"
   ]
  },
  {
   "cell_type": "code",
   "execution_count": 4,
   "metadata": {
    "collapsed": false
   },
   "outputs": [],
   "source": [
    "# Get just the Student IDs we're interested in\n",
    "sub_df = plag_df[plag_df['Enter your Student ID number:'].isin(stud_ids['Student ID'])]\n",
    "max_scores = sub_df.groupby('Enter your Student ID number:').max()\n",
    "max_scores.to_excel('max_scores.xlsx')"
   ]
  }
 ],
 "metadata": {
  "kernelspec": {
   "display_name": "Python 3",
   "language": "python",
   "name": "python3"
  },
  "language_info": {
   "codemirror_mode": {
    "name": "ipython",
    "version": 3
   },
   "file_extension": ".py",
   "mimetype": "text/x-python",
   "name": "python",
   "nbconvert_exporter": "python",
   "pygments_lexer": "ipython3",
   "version": "3.6.0"
  }
 },
 "nbformat": 4,
 "nbformat_minor": 2
}
